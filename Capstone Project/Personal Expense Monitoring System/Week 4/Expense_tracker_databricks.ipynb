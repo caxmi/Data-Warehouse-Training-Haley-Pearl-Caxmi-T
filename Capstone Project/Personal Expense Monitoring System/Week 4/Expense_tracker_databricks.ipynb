{
 "cells": [
  {
   "cell_type": "code",
   "execution_count": 0,
   "metadata": {
    "application/vnd.databricks.v1+cell": {
     "cellMetadata": {
      "byteLimit": 2048000,
      "rowLimit": 10000
     },
     "inputWidgets": {},
     "nuid": "16055bd6-6916-4530-b92b-aa7d572e87fb",
     "showTitle": false,
     "tableResultSettingsMap": {},
     "title": ""
    }
   },
   "outputs": [],
   "source": [
    "# ========== 1. SETUP & DATA LOADING ==========\n",
    "from pyspark.sql.functions import *\n",
    "from pyspark.sql.window import Window\n",
    "\n",
    "# Load expense data\n",
    "expense_df = spark.read.csv(\n",
    "    \"dbfs:/FileStore/shared_uploads/azuser3552_mml.local@techademy.com/combined_expenses.csv\", \n",
    "    header=True, \n",
    "    inferSchema=True\n",
    ")\n",
    "\n",
    "# Load user data\n",
    "user_df = spark.read.csv(\n",
    "    \"dbfs:/FileStore/shared_uploads/azuser3552_mml.local@techademy.com/users.csv\", \n",
    "    header=True, \n",
    "    inferSchema=True\n",
    ")"
   ]
  },
  {
   "cell_type": "code",
   "execution_count": 0,
   "metadata": {
    "application/vnd.databricks.v1+cell": {
     "cellMetadata": {
      "byteLimit": 2048000,
      "rowLimit": 10000
     },
     "inputWidgets": {},
     "nuid": "68b5b4aa-cc0e-4f64-8373-40a4789fcf3e",
     "showTitle": false,
     "tableResultSettingsMap": {},
     "title": ""
    }
   },
   "outputs": [],
   "source": [
    "# ========== 2. DATA CLEANING ==========\n",
    "# Clean expense data\n",
    "cleaned_expenses = (\n",
    "    expense_df\n",
    "    .withColumn(\"date\", to_date(col(\"date\"), \"yyyy-MM-dd\"))\n",
    "    .withColumn(\"month\", concat_ws(\"-\", year(\"date\"), month(\"date\")))\n",
    "    .dropDuplicates()\n",
    ")"
   ]
  },
  {
   "cell_type": "code",
   "execution_count": 0,
   "metadata": {
    "application/vnd.databricks.v1+cell": {
     "cellMetadata": {
      "byteLimit": 2048000,
      "rowLimit": 10000
     },
     "inputWidgets": {},
     "nuid": "643f343d-5176-42a5-8941-04d041ed520a",
     "showTitle": false,
     "tableResultSettingsMap": {},
     "title": ""
    }
   },
   "outputs": [],
   "source": [
    "# ========== 3. ADD MOCK INCOME DATA ==========\n",
    "# Since income column is missing, we'll create reasonable mock data\n",
    "income_ranges = {\n",
    "    \"Alice\": 4000,\n",
    "    \"Bob\": 3500,\n",
    "    \"Emma Johnson\": 5000,\n",
    "    \"Michael Chen\": 4500,\n",
    "    \"Sarah Williams\": 3800,\n",
    "    \"David Kim\": 4200,\n",
    "    \"Lisa Wong\": 4800\n",
    "}\n",
    "\n",
    "# Create income DataFrame\n",
    "income_df = spark.createDataFrame(\n",
    "    [(k, v) for k, v in income_ranges.items()],\n",
    "    [\"name\", \"income\"]\n",
    ")\n",
    "\n",
    "# Join with user data\n",
    "user_with_income = user_df.join(income_df, \"name\", \"left\")"
   ]
  },
  {
   "cell_type": "code",
   "execution_count": 0,
   "metadata": {
    "application/vnd.databricks.v1+cell": {
     "cellMetadata": {
      "byteLimit": 2048000,
      "rowLimit": 10000
     },
     "inputWidgets": {},
     "nuid": "0ee4ae89-945c-4b1d-b229-a2a61bb8c173",
     "showTitle": false,
     "tableResultSettingsMap": {},
     "title": ""
    }
   },
   "outputs": [],
   "source": [
    "# ========== 4. COMBINE DATA ==========\n",
    "combined_df = (\n",
    "    cleaned_expenses\n",
    "    .join(\n",
    "        user_with_income,\n",
    "        cleaned_expenses[\"user\"] == user_with_income[\"name\"],\n",
    "        \"left\"\n",
    "    )\n",
    "    .withColumn(\"savings\", col(\"income\") - col(\"amount\"))\n",
    ")\n"
   ]
  },
  {
   "cell_type": "code",
   "execution_count": 0,
   "metadata": {
    "application/vnd.databricks.v1+cell": {
     "cellMetadata": {
      "byteLimit": 2048000,
      "rowLimit": 10000
     },
     "inputWidgets": {},
     "nuid": "9f656dbd-1fac-461a-8296-1c9c411f9039",
     "showTitle": false,
     "tableResultSettingsMap": {},
     "title": ""
    }
   },
   "outputs": [
    {
     "output_type": "stream",
     "name": "stdout",
     "output_type": "stream",
     "text": [
      "=== Potential Unusual Spending ===\n+----+----+--------+------+\n|user|date|category|amount|\n+----+----+--------+------+\n+----+----+--------+------+\n\n"
     ]
    }
   ],
   "source": [
    "# ========== 5. UNUSUAL SPENDING DETECTION ==========\n",
    "window = Window.partitionBy(\"user\", \"category\")\n",
    "anomalies_df = (\n",
    "    combined_df\n",
    "    .withColumn(\"avg_spend\", avg(\"amount\").over(window))\n",
    "    .withColumn(\"stddev_spend\", stddev(\"amount\").over(window))\n",
    "    .withColumn(\"is_anomaly\", col(\"amount\") > (col(\"avg_spend\") + 2 * col(\"stddev_spend\")))\n",
    ")\n",
    "\n",
    "print(\"=== Potential Unusual Spending ===\")\n",
    "anomalies_df.filter(\"is_anomaly = True\").select(\"user\", \"date\", \"category\", \"amount\").show()"
   ]
  },
  {
   "cell_type": "code",
   "execution_count": 0,
   "metadata": {
    "application/vnd.databricks.v1+cell": {
     "cellMetadata": {
      "byteLimit": 2048000,
      "rowLimit": 10000
     },
     "inputWidgets": {},
     "nuid": "11322c70-b74b-421b-b6d4-91f643b5047b",
     "showTitle": false,
     "tableResultSettingsMap": {},
     "title": ""
    }
   },
   "outputs": [
    {
     "output_type": "stream",
     "name": "stdout",
     "output_type": "stream",
     "text": [
      "=== Monthly Summary ===\n+--------------+-------+-----------+-------------+-----------------+------+\n|          user|  month|total_spent|total_savings|transaction_count| alert|\n+--------------+-------+-----------+-------------+-----------------+------+\n|  Michael Chen|2023-11|       35.5|       4464.5|                1|Normal|\n|     David Kim|2023-11|      120.5|       4079.5|                1|Normal|\n|  Emma Johnson|2023-10|      285.2|       9714.8|                2|Normal|\n|           Bob|2023-10|     465.99|     10034.01|                3|Normal|\n|         Alice|2023-12|       8.99|      3991.01|                1|Normal|\n|Sarah Williams|2023-11|       75.0|       3725.0|                1|Normal|\n|     Lisa Wong|2023-11|      450.0|       4350.0|                1|Normal|\n|  Michael Chen|2023-12|       95.6|       4404.4|                1|Normal|\n|     David Kim|2023-12|       85.0|       4115.0|                1|Normal|\n|         Alice|2023-10|     1465.3|      18534.7|                5|Normal|\n|Sarah Williams|2023-12|       30.0|       3770.0|                1|Normal|\n|     Lisa Wong|2023-12|       18.5|       4781.5|                1|Normal|\n|  Michael Chen|2023-10|      89.99|      4410.01|                1|Normal|\n|  Emma Johnson|2023-11|       90.0|       4910.0|                1|Normal|\n|           Bob|2023-12|     107.75|      6892.25|                2|Normal|\n|Sarah Williams|2023-10|       45.0|       3755.0|                1|Normal|\n|  Emma Johnson|2023-12|     1250.0|       3750.0|                1|Normal|\n|         Alice|2023-11|      125.4|       7874.6|                2|Normal|\n|           Bob|2023-11|      10.99|      3489.01|                1|Normal|\n|        User 1|2023-10|      145.3|         NULL|                3|Normal|\n+--------------+-------+-----------+-------------+-----------------+------+\nonly showing top 20 rows\n\n"
     ]
    }
   ],
   "source": [
    "# ========== 6. MONTHLY SUMMARY ==========\n",
    "monthly_summary = (\n",
    "    combined_df\n",
    "    .groupBy(\"user\", \"month\")\n",
    "    .agg(\n",
    "        sum(\"amount\").alias(\"total_spent\"),\n",
    "        sum(\"savings\").alias(\"total_savings\"),\n",
    "        count(\"*\").alias(\"transaction_count\")\n",
    "    )\n",
    "    .withColumn(\"alert\",\n",
    "        when(col(\"total_spent\") > 3000, \"⚠️ High Spending\")\n",
    "        .otherwise(\"Normal\")\n",
    "    )\n",
    ")\n",
    "\n",
    "print(\"=== Monthly Summary ===\")\n",
    "monthly_summary.show()"
   ]
  },
  {
   "cell_type": "code",
   "execution_count": 0,
   "metadata": {
    "application/vnd.databricks.v1+cell": {
     "cellMetadata": {
      "byteLimit": 2048000,
      "rowLimit": 10000
     },
     "inputWidgets": {},
     "nuid": "9e43eac7-fcf8-4364-8983-7b8139039fb7",
     "showTitle": false,
     "tableResultSettingsMap": {},
     "title": ""
    }
   },
   "outputs": [
    {
     "output_type": "stream",
     "name": "stdout",
     "output_type": "stream",
     "text": [
      "✅ Processing complete!\nDelta tables saved to: /FileStore/expenses_cleaned and /FileStore/monthly_summary\nCSV saved to: /FileStore/monthly_summary_csv\n"
     ]
    }
   ],
   "source": [
    "# ========== 7. SAVE OUTPUTS ==========\n",
    "# Save cleaned data\n",
    "cleaned_expenses.write.format(\"delta\").mode(\"overwrite\").save(\"/FileStore/expenses_cleaned\")\n",
    "\n",
    "# Save monthly summary\n",
    "monthly_summary.write.format(\"delta\").mode(\"overwrite\").save(\"/FileStore/monthly_summary\")\n",
    "monthly_summary.coalesce(1).write.csv(\"/FileStore/monthly_summary_csv\", header=True)\n",
    "\n",
    "print(\"✅ Processing complete!\")\n",
    "print(\"Delta tables saved to: /FileStore/expenses_cleaned and /FileStore/monthly_summary\")\n",
    "print(\"CSV saved to: /FileStore/monthly_summary_csv\")"
   ]
  }
 ],
 "metadata": {
  "application/vnd.databricks.v1+notebook": {
   "computePreferences": null,
   "dashboards": [],
   "environmentMetadata": {
    "base_environment": "",
    "environment_version": "2"
   },
   "inputWidgetPreferences": null,
   "language": "python",
   "notebookMetadata": {
    "pythonIndentUnit": 4
   },
   "notebookName": "Expense_tracker_databricks",
   "widgets": {}
  },
  "language_info": {
   "name": "python"
  }
 },
 "nbformat": 4,
 "nbformat_minor": 0
}